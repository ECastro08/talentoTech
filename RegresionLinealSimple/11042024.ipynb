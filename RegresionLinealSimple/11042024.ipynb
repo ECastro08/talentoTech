{
 "cells": [
  {
   "cell_type": "code",
   "execution_count": 1,
   "metadata": {},
   "outputs": [],
   "source": [
    "import pandas as pd\n",
    "import numpy as np\n",
    "import matplotlib.pyplot as plt"
   ]
  },
  {
   "cell_type": "code",
   "execution_count": 26,
   "metadata": {},
   "outputs": [
    {
     "data": {
      "text/html": [
       "<div>\n",
       "<style scoped>\n",
       "    .dataframe tbody tr th:only-of-type {\n",
       "        vertical-align: middle;\n",
       "    }\n",
       "\n",
       "    .dataframe tbody tr th {\n",
       "        vertical-align: top;\n",
       "    }\n",
       "\n",
       "    .dataframe thead th {\n",
       "        text-align: right;\n",
       "    }\n",
       "</style>\n",
       "<table border=\"1\" class=\"dataframe\">\n",
       "  <thead>\n",
       "    <tr style=\"text-align: right;\">\n",
       "      <th></th>\n",
       "      <th>x</th>\n",
       "      <th>y</th>\n",
       "      <th>x*y</th>\n",
       "      <th>x^2</th>\n",
       "      <th>X-XMean</th>\n",
       "      <th>Y-YMean</th>\n",
       "    </tr>\n",
       "  </thead>\n",
       "  <tbody>\n",
       "    <tr>\n",
       "      <th>0</th>\n",
       "      <td>1</td>\n",
       "      <td>2</td>\n",
       "      <td>2</td>\n",
       "      <td>1</td>\n",
       "      <td>-2.375</td>\n",
       "      <td>-2.375</td>\n",
       "    </tr>\n",
       "    <tr>\n",
       "      <th>1</th>\n",
       "      <td>2</td>\n",
       "      <td>3</td>\n",
       "      <td>6</td>\n",
       "      <td>4</td>\n",
       "      <td>-1.375</td>\n",
       "      <td>-1.375</td>\n",
       "    </tr>\n",
       "    <tr>\n",
       "      <th>2</th>\n",
       "      <td>2</td>\n",
       "      <td>4</td>\n",
       "      <td>8</td>\n",
       "      <td>4</td>\n",
       "      <td>-1.375</td>\n",
       "      <td>-0.375</td>\n",
       "    </tr>\n",
       "    <tr>\n",
       "      <th>3</th>\n",
       "      <td>3</td>\n",
       "      <td>4</td>\n",
       "      <td>12</td>\n",
       "      <td>9</td>\n",
       "      <td>-0.375</td>\n",
       "      <td>-0.375</td>\n",
       "    </tr>\n",
       "    <tr>\n",
       "      <th>4</th>\n",
       "      <td>4</td>\n",
       "      <td>4</td>\n",
       "      <td>16</td>\n",
       "      <td>16</td>\n",
       "      <td>0.625</td>\n",
       "      <td>-0.375</td>\n",
       "    </tr>\n",
       "    <tr>\n",
       "      <th>5</th>\n",
       "      <td>4</td>\n",
       "      <td>6</td>\n",
       "      <td>24</td>\n",
       "      <td>16</td>\n",
       "      <td>0.625</td>\n",
       "      <td>1.625</td>\n",
       "    </tr>\n",
       "    <tr>\n",
       "      <th>6</th>\n",
       "      <td>5</td>\n",
       "      <td>5</td>\n",
       "      <td>25</td>\n",
       "      <td>25</td>\n",
       "      <td>1.625</td>\n",
       "      <td>0.625</td>\n",
       "    </tr>\n",
       "    <tr>\n",
       "      <th>7</th>\n",
       "      <td>6</td>\n",
       "      <td>7</td>\n",
       "      <td>42</td>\n",
       "      <td>36</td>\n",
       "      <td>2.625</td>\n",
       "      <td>2.625</td>\n",
       "    </tr>\n",
       "  </tbody>\n",
       "</table>\n",
       "</div>"
      ],
      "text/plain": [
       "   x  y  x*y  x^2  X-XMean  Y-YMean\n",
       "0  1  2    2    1   -2.375   -2.375\n",
       "1  2  3    6    4   -1.375   -1.375\n",
       "2  2  4    8    4   -1.375   -0.375\n",
       "3  3  4   12    9   -0.375   -0.375\n",
       "4  4  4   16   16    0.625   -0.375\n",
       "5  4  6   24   16    0.625    1.625\n",
       "6  5  5   25   25    1.625    0.625\n",
       "7  6  7   42   36    2.625    2.625"
      ]
     },
     "execution_count": 26,
     "metadata": {},
     "output_type": "execute_result"
    }
   ],
   "source": [
    "x = [1, 2, 2, 3, 4, 4, 5, 6]\n",
    "y = [2, 3, 4, 4, 4, 6, 5, 7]\n",
    "\n",
    "data = {'x': x,\n",
    "        'y': y }\n",
    "\n",
    "df = pd.DataFrame(data)    \n",
    "df['x*y'] = df['x']* df['y']\n",
    "df['x^2'] = df['x']**2\n",
    "df['X-XMean'] = df['x']-df['x'].mean()\n",
    "df['Y-YMean'] = df['y']-df['y'].mean()\n",
    "\n",
    "n = len(df)\n",
    "df"
   ]
  },
  {
   "cell_type": "code",
   "execution_count": 32,
   "metadata": {},
   "outputs": [],
   "source": [
    "sum_X = df['x'].sum()\n",
    "sum_Y = df['y'].sum()\n",
    "sum_XY = df['x*y'].sum()\n",
    "sum_XX = df['x^2'].sum()\n",
    "sum_X_XMean = df['x']-df['x'].mean()\n",
    "sum_Y_YMean = df['y']-df['y'].mean()\n",
    "prom_X = df['x'].mean()\n",
    "prom_Y = df['y'].mean()\n"
   ]
  },
  {
   "cell_type": "code",
   "execution_count": 33,
   "metadata": {},
   "outputs": [
    {
     "data": {
      "text/plain": [
       "(0.8490566037735849, 1.5094339622641506)"
      ]
     },
     "execution_count": 33,
     "metadata": {},
     "output_type": "execute_result"
    }
   ],
   "source": [
    "num = n * sum_XY - sum_X * sum_Y\n",
    "den = n * sum_XX - (sum_X)**2\n",
    "\n",
    "m = num/den\n",
    "b = prom_Y - m * prom_X\n",
    "\n",
    "m,b\n"
   ]
  },
  {
   "cell_type": "markdown",
   "metadata": {},
   "source": [
    "GRAFICAS"
   ]
  },
  {
   "cell_type": "code",
   "execution_count": 34,
   "metadata": {},
   "outputs": [
    {
     "name": "stderr",
     "output_type": "stream",
     "text": [
      "No artists with labels found to put in legend.  Note that artists whose label start with an underscore are ignored when legend() is called with no argument.\n"
     ]
    },
    {
     "data": {
      "image/png": "[encoded data removed]",
      "text/plain": [
       "<Figure size 640x480 with 1 Axes>"
      ]
     },
     "metadata": {},
     "output_type": "display_data"
    }
   ],
   "source": [
    "x_values = np.linspace(min(df['x']), max(df['y']))\n",
    "y_values = (m * x_values + b)\n",
    "plt.scatter(df['x'], df['y'], color='yellow')\n",
    "plt.plot(x_values, y_values, color= \"red\")\n",
    "plt.title('Regresion Lineal')\n",
    "plt.legend()\n",
    "plt.show()\n"
   ]
  },
  {
   "cell_type": "markdown",
   "metadata": {},
   "source": [
    "Nueva Formula"
   ]
  },
  {
   "cell_type": "code",
   "execution_count": 36,
   "metadata": {},
   "outputs": [
    {
     "data": {
      "text/plain": [
       "0.8490566037735849"
      ]
     },
     "execution_count": 36,
     "metadata": {},
     "output_type": "execute_result"
    }
   ],
   "source": [
    "betha_num = (sum_X_XMean*sum_Y_YMean).sum()\n",
    "betha_den = ((sum_X_XMean)**2).sum()\n",
    "\n",
    "betha = betha_num/betha_den\n",
    "betha"
   ]
  }
 ],
 "metadata": {
  "kernelspec": {
   "display_name": "base",
   "language": "python",
   "name": "python3"
  },
  "language_info": {
   "codemirror_mode": {
    "name": "ipython",
    "version": 3
   },
   "file_extension": ".py",
   "mimetype": "text/x-python",
   "name": "python",
   "nbconvert_exporter": "python",
   "pygments_lexer": "ipython3",
   "version": "3.10.9"
  }
 },
 "nbformat": 4,
 "nbformat_minor": 2
}
