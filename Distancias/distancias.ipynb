{
 "cells": [
  {
   "cell_type": "markdown",
   "metadata": {},
   "source": [
    "Distancia Euclidiana"
   ]
  },
  {
   "cell_type": "code",
   "execution_count": 4,
   "metadata": {},
   "outputs": [
    {
     "name": "stdout",
     "output_type": "stream",
     "text": [
      "3.1622776601683795\n"
     ]
    }
   ],
   "source": [
    "import math\n",
    "\n",
    "def distance_euclidiana(x1,y1,x2,y2):\n",
    "\n",
    "    return math.sqrt((x2-x1)**2 + (y2-y1)**2)\n",
    "\n",
    "x1,y1 = 1,3\n",
    "x2,y2 = 2,6\n",
    "\n",
    "print(distance_euclidiana(x1,y1,x2,y2))"
   ]
  },
  {
   "cell_type": "code",
   "execution_count": 8,
   "metadata": {},
   "outputs": [
    {
     "data": {
      "image/png": "[encoded data removed]",
      "text/plain": [
       "<Figure size 640x480 with 1 Axes>"
      ]
     },
     "metadata": {},
     "output_type": "display_data"
    }
   ],
   "source": [
    "import matplotlib.pyplot as plt\n",
    "import math\n",
    "\n",
    "def distance_euclidean(x1, y1, x2, y2):\n",
    "    return math.sqrt((x2 - x1) ** 2 + (y2 - y1) ** 2)\n",
    "\n",
    "def plot_points_and_line(x1, y1, x2, y2):\n",
    "    # Crear una figura y un sistema de ejes\n",
    "    fig, ax = plt.subplots()\n",
    "\n",
    "    # Graficar los puntos\n",
    "    ax.scatter([x1, x2], [y1, y2], color='blue')\n",
    "\n",
    "    # Graficar la línea entre los puntos\n",
    "    ax.plot([x1, x2], [y1, y2], linestyle='--', color='red')\n",
    "\n",
    "    # Etiquetar los puntos\n",
    "    ax.text(x1, y1, f'({x1}, {y1})', fontsize=12, ha='right')\n",
    "    ax.text(x2, y2, f'({x2}, {y2})', fontsize=12, ha='right')\n",
    "\n",
    "    # Calcular la distancia euclidiana\n",
    "    distance = distance_euclidean(x1, y1, x2, y2)\n",
    "\n",
    "    # Colocar la etiqueta de la distancia euclidiana\n",
    "    ax.text((x1 + x2) / 2, (y1 + y2) / 2, f'{distance:.2f}', fontsize=12, ha='center')\n",
    "\n",
    "    # Ajustar los límites del gráfico\n",
    "    ax.set_xlim(min(x1, x2) - 1, max(x1, x2) + 1)\n",
    "    ax.set_ylim(min(y1, y2) - 1, max(y1, y2) + 1)\n",
    "\n",
    "    # Etiquetas de los ejes\n",
    "    ax.set_xlabel('Eje X')\n",
    "    ax.set_ylabel('Eje Y')\n",
    "\n",
    "    # Título del gráfico\n",
    "    ax.set_title('Distancia Euclidiana')\n",
    "\n",
    "    # Mostrar el gráfico\n",
    "    plt.grid(True)\n",
    "    plt.show()\n",
    "\n",
    "x1, y1 = 1, 3\n",
    "x2, y2 = 2, 6\n",
    "\n",
    "plot_points_and_line(x1, y1, x2, y2)\n"
   ]
  },
  {
   "cell_type": "markdown",
   "metadata": {},
   "source": [
    "Distancia Manhathan"
   ]
  },
  {
   "cell_type": "code",
   "execution_count": 1,
   "metadata": {},
   "outputs": [
    {
     "name": "stdout",
     "output_type": "stream",
     "text": [
      "8\n"
     ]
    }
   ],
   "source": [
    "def distance_manhathan(x1,y1,x2,y2):\n",
    "\n",
    "    return abs(x2-x1) + abs(y2-y1)\n",
    "\n",
    "print(distance_manhathan(8,6,4,10))\n"
   ]
  },
  {
   "cell_type": "markdown",
   "metadata": {},
   "source": [
    "Distancia de Hamming"
   ]
  },
  {
   "cell_type": "code",
   "execution_count": null,
   "metadata": {},
   "outputs": [],
   "source": []
  },
  {
   "cell_type": "markdown",
   "metadata": {},
   "source": [
    "Distancia Chevishek"
   ]
  },
  {
   "cell_type": "code",
   "execution_count": 10,
   "metadata": {},
   "outputs": [
    {
     "name": "stdout",
     "output_type": "stream",
     "text": [
      "(1, 3)\n"
     ]
    }
   ],
   "source": [
    "def calc_chevishek(x1,x2,y1,y2):\n",
    "    return (abs(x1-x2),abs(y1-y2))\n",
    "\n",
    "print(calc_chevishek(2,3,5,8))"
   ]
  },
  {
   "cell_type": "markdown",
   "metadata": {},
   "source": [
    "Distancia de Camberra"
   ]
  },
  {
   "cell_type": "code",
   "execution_count": 9,
   "metadata": {},
   "outputs": [
    {
     "name": "stdout",
     "output_type": "stream",
     "text": [
      "0.14285714285714285\n"
     ]
    }
   ],
   "source": [
    "def calc_camberra(x,y):\n",
    "    numCamb = abs(x-y)\n",
    "    denCamb = abs(x) + abs(y)\n",
    "    d_camberra = numCamb/denCamb\n",
    "\n",
    "    return d_camberra\n",
    "\n",
    "print(calc_camberra(3,4))"
   ]
  },
  {
   "cell_type": "markdown",
   "metadata": {},
   "source": []
  }
 ],
 "metadata": {
  "kernelspec": {
   "display_name": "base",
   "language": "python",
   "name": "python3"
  },
  "language_info": {
   "codemirror_mode": {
    "name": "ipython",
    "version": 3
   },
   "file_extension": ".py",
   "mimetype": "text/x-python",
   "name": "python",
   "nbconvert_exporter": "python",
   "pygments_lexer": "ipython3",
   "version": "3.10.9"
  }
 },
 "nbformat": 4,
 "nbformat_minor": 2
}
